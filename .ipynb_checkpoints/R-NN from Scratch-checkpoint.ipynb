{
 "cells": [
  {
   "cell_type": "markdown",
   "metadata": {},
   "source": [
    "# STAN48 Programming for Data Science\n",
    "\n",
    "## Final project\n",
    "\n",
    "As a conclusion to the course I decided to create simple implementation of a feed forward neural network using mainly Numpy and base Python. While there are already exquisite packages that offer these solutions (like Tensorflow and Pytorch), a step by step implementation of a neural network is still valuable for teaching basic programming concepts as well as basic neural network concepts.\n",
    "\n",
    "As a general example I will use the [Kaggle Dogs vs. Cats](https://www.microsoft.com/en-us/download/details.aspx?id=54765) dataset to classify whether a given picture shows a cat or not. As the data set only includes two different options, we can assume the `not cat` option to be the same as `dog`. As mentioned, the intent is to have a general example to expose how the algorithm works, and the intricasies of the programming challenge, in other words, it is *not* my intention to implement a functioning neural network from scratch **and** a good model for classifying cats. \n",
    "\n",
    "## R or Python?\n",
    "\n",
    "This notebook is originally made for Python. One of the requirements for this project was that whatever the choice of application to be developed, it should be done in both Python **and** R. Being that so, this notebook will focus on porting the Python code to R, and therefore, I will not bother in copy pasting the exact same explanations about the data or what a Neural Network is. For that purpose I urge the reader to check the Python notebook with the same name as this one. \n",
    "\n",
    "One practical element of this choice is that at times you will be met with cells starting with `%%writefile`, in those cases one should change the kernel of the notebook (since this command is native to IPyKernel, not R). All else should run smoothly through R.\n",
    "\n",
    "### The structure\n",
    "\n",
    "This project include several files. In this notebook you will find the application related functions, however, many of the base functions used for the calculations are left in a separate file that concentrates all the basic calculation functions. Without those dependencies this notebook will not function as it should. Some basic concepts regarding neural networks will be presented through the notebook, but the focus of this work is exposing the programming challenge behind neural networks.\n",
    "\n",
    "### The data\n",
    "\n",
    "The data set contains 25000 images of dogs and cats, but 59 of them were corrupted or in grayscale and, therefore, dropped. The classes are balanced and the angle, depth, light, and dimensions are not uniform. While originally a Kaggle competition data set, I opted to use the version made available by Microsoft because it did not pre divide the data giving me more freedom to split the sets as I please."
   ]
  },
  {
   "cell_type": "code",
   "execution_count": 1,
   "metadata": {
    "vscode": {
     "languageId": "r"
    }
   },
   "outputs": [
    {
     "name": "stdout",
     "output_type": "stream",
     "text": [
      "Overwriting helper_functions.R\n"
     ]
    }
   ],
   "source": [
    "%%writefile helper_functions.R\n",
    "#one could potentially use the `sigmoid` library for the relu and sigmoid functions, but they are very simple to implement too.\n",
    "relu<-function(Z){\n",
    "  A<-pmax(Z,0)\n",
    "  cache<-Z\n",
    "  return(list(A,cache))\n",
    "}\n",
    "sigmoid<-function(Z){\n",
    "  A<-1/(1+exp(Z))\n",
    "  cache<-Z\n",
    "  return(list(A,cache))\n",
    "}\n",
    "relu_backprop<-function(dA, cache){\n",
    "  Z=cache\n",
    "  dZ<-dA\n",
    "  dZ[Z<=0]<-0\n",
    "  return(dZ)\n",
    "}\n",
    "sigmoid_backprop<-function(dA,cache){\n",
    "  Z<-cache\n",
    "  s<-1/(1+exp(-Z))\n",
    "  dZ<-dA*s*(1-s)\n",
    "  return(dZ)\n",
    "}"
   ]
  },
  {
   "cell_type": "code",
   "execution_count": 2,
   "metadata": {
    "vscode": {
     "languageId": "r"
    }
   },
   "outputs": [
    {
     "name": "stdout",
     "output_type": "stream",
     "text": [
      "Overwriting init_param.R\n"
     ]
    }
   ],
   "source": [
    "%%writefile init_param.R\n",
    "fill.matrix<-function(expr,nrow=1,ncol=1){\n",
    "  matrix(eval(expr,envir=list(x=nrow*ncol)),nrow=nrow,ncol=ncol)\n",
    "}\n",
    "init_param<-function(layer_dim){\n",
    "  L<-length(layer_dim)\n",
    "  parameters=vector(\"list\",0)\n",
    "  for (l in 1:(L-1)){\n",
    "    n=layer_dim[l]*layer_dim[l+1]\n",
    "    parameters[[paste0(\"W\",l)]]<-fill.matrix(rnorm(n=n)*0.01,nrow=layer_dim[l+1],ncol=layer_dim[l])\n",
    "    parameters[[paste0(\"b\",l)]]<-matrix(0,layer_dim[l+1],1)\n",
    "  }\n",
    "  return(parameters)\n",
    "}"
   ]
  },
  {
   "cell_type": "code",
   "execution_count": 3,
   "metadata": {
    "vscode": {
     "languageId": "r"
    }
   },
   "outputs": [
    {
     "name": "stdout",
     "output_type": "stream",
     "text": [
      "Overwriting for_prop.R\n"
     ]
    }
   ],
   "source": [
    "%%writefile for_prop.R\n",
    "source(\"helper_functions.R\")\n",
    "for_prop<-function(A,W,b){\n",
    "  Z<-sweep((W%*%A),MARGIN=1,STATS=b,FUN=\"+\")\n",
    "  cache<-list(A,W,b)\n",
    "  return(list(Z,cache))\n",
    "}\n",
    "for_activation<-function(A_prev,W,b,activ){\n",
    "  if(activ=='sigmoid'){\n",
    "    calc<-for_prop(A_prev,W,b)\n",
    "    Z<-calc[[1]]\n",
    "    linear_cache<-calc[[2]]\n",
    "    calc2<-sigmoid(Z)\n",
    "    A<-calc2[[1]]\n",
    "    activ_cache<-calc2[[2]]\n",
    "  } else if (activ=='relu'){\n",
    "    calc<-for_prop(A_prev,W,b)\n",
    "    Z<-calc[[1]]\n",
    "    linear_cache<-calc[[2]]\n",
    "    calc2<-relu(Z)\n",
    "    A<-calc2[[1]]\n",
    "    activ_cache<-calc2[[2]]\n",
    "  }\n",
    "  cache=list(linear_cache,activ_cache)\n",
    "  return(list(A,cache))\n",
    "}"
   ]
  },
  {
   "cell_type": "code",
   "execution_count": 4,
   "metadata": {
    "vscode": {
     "languageId": "r"
    }
   },
   "outputs": [
    {
     "name": "stdout",
     "output_type": "stream",
     "text": [
      "Overwriting deep_model.R\n"
     ]
    }
   ],
   "source": [
    "%%writefile deep_model.R\n",
    "source(\"for_prop.R\")\n",
    "deep_model<-function(X,parameters){\n",
    "  caches<-list()\n",
    "  A<-X\n",
    "  L<-length(parameters)%/%2\n",
    "  for (l in 1:(L)){\n",
    "    if (l==L){\n",
    "      A_prev<-A\n",
    "      calc<-for_activation(A_prev,parameters[[paste0(\"W\",L)]],parameters[[paste0(\"b\",L)]],activ='sigmoid')\n",
    "      AV<-calc[[1]]\n",
    "      cache<-calc[[2]]\n",
    "      caches[l]<-list(cache)\n",
    "    } else {\n",
    "    A_prev<-A\n",
    "    calc<-for_activation(A_prev,parameters[[paste0(\"W\",l)]],parameters[[paste0(\"b\",l)]],activ='relu')\n",
    "    A<-calc[[1]]\n",
    "    cache<-calc[[2]]\n",
    "    caches[l]<-list(cache)\n",
    "    }\n",
    "  }\n",
    "  return(list(AV,caches))\n",
    "}"
   ]
  },
  {
   "cell_type": "code",
   "execution_count": 5,
   "metadata": {
    "vscode": {
     "languageId": "r"
    }
   },
   "outputs": [
    {
     "name": "stdout",
     "output_type": "stream",
     "text": [
      "Overwriting cost_computation.R\n"
     ]
    }
   ],
   "source": [
    "%%writefile cost_computation.R\n",
    "cost_computation<-function(AV,Y){\n",
    "  m<-length(Y)\n",
    "  cost=-(1/m)*sum(log(AV)%*%Y+log((1-AV))%*%(1-Y))\n",
    "  cost<-unlist(cost)\n",
    "  return(cost)\n",
    "}"
   ]
  },
  {
   "cell_type": "code",
   "execution_count": 6,
   "metadata": {
    "vscode": {
     "languageId": "r"
    }
   },
   "outputs": [
    {
     "name": "stdout",
     "output_type": "stream",
     "text": [
      "Overwriting back_prop.R\n"
     ]
    }
   ],
   "source": [
    "%%writefile back_prop.R\n",
    "source(\"helper_functions.R\")\n",
    "back_prop<-function(dZ,cache){\n",
    "  A_prev<-cache[[1]]\n",
    "  W<-cache[[2]]\n",
    "  b<-cache[[3]]\n",
    "  m<-dim(A_prev)[2]\n",
    "  dW<-(1/m)*(dZ%*%t(A_prev))\n",
    "  db<-(1/m)*sum(dZ)\n",
    "  dA_prev<-t(W)%*%dZ\n",
    "  return(list(dA_prev,dW,db))\n",
    "}\n",
    "back_activ<-function(dA,cache,activ){\n",
    "  for_cache<-cache[[1]][[1]]\n",
    "  activ_cache<-cache[[1]][[2]]\n",
    "  if (activ=='relu'){\n",
    "    dZ<-relu_backprop(dA[[1]],activ_cache)\n",
    "    calc<-back_prop(dZ,for_cache)\n",
    "    dA_prev<-as.matrix(calc[[1]])\n",
    "    dW<-calc[[2]]\n",
    "    db<-calc[[3]]\n",
    "  } else if (activ=='sigmoid'){\n",
    "    dZ<-sigmoid_backprop(dA,activ_cache)\n",
    "    calc<-back_prop(dZ,for_cache)\n",
    "    dA_prev<-calc[[1]]\n",
    "    dW<-calc[[2]]\n",
    "    db<-calc[[3]]\n",
    "  }\n",
    "  return(list(dA_prev,dW,db))\n",
    "}\n",
    "deep_model_back<-function(AV,Y,caches){\n",
    "  grads<-list()\n",
    "  L<-length(caches)\n",
    "  m<-dim(AV)[2]\n",
    "  Y<-matrix(Y, nrow=1, ncol=length(AV))\n",
    "  dAL=-(Y/AV)-((1-Y)/(1-AV))\n",
    "  present_cache<-caches[L]\n",
    "  calc<-back_activ(dAL,present_cache,activ='sigmoid')\n",
    "  grads[paste(\"dA\",L,sep=\"\")]<-list(calc[[1]])\n",
    "  grads[paste(\"dW\",L,sep=\"\")]<-list(calc[[2]])\n",
    "  grads[paste('db',L,sep=\"\")]<-list(calc[[3]])\n",
    "  for (l in (L-1):1){\n",
    "    present_cache<-caches[l]\n",
    "    calcul<-back_activ(grads[paste0(\"dA\",l+1)],present_cache,activ='relu')\n",
    "    dA_prev_temp<-calcul[[1]]\n",
    "    dW_temp<-calcul[[2]]\n",
    "    db_temp<-calcul[[3]]\n",
    "    grads[paste0('dA',l)]<-list(dA_prev_temp)\n",
    "    grads[paste0('dW',l)]<-list(dW_temp)\n",
    "    grads[paste0('db',l)]<-list(db_temp)\n",
    "  }\n",
    "  return(grads)\n",
    "}"
   ]
  },
  {
   "cell_type": "code",
   "execution_count": 7,
   "metadata": {
    "vscode": {
     "languageId": "r"
    }
   },
   "outputs": [
    {
     "name": "stdout",
     "output_type": "stream",
     "text": [
      "Overwriting update.R\n"
     ]
    }
   ],
   "source": [
    "%%writefile update.R\n",
    "update<-function(params,grads,learning_rate){\n",
    "  parameters<-params\n",
    "  L<-length(parameters)%/%2\n",
    "  for (l in 1:L){\n",
    "    parameters[[paste0(\"W\",l+1)]]<-parameters[[paste0(\"W\",l+1)]]-learning_rate*grads[[paste0('dW',l+1)]]\n",
    "    parameters[[paste0(\"b\",l+1)]]<-parameters[[paste0(\"b\",l+1)]]-learning_rate*grads[[paste0('db',l+1)]]\n",
    "  }\n",
    "  return(parameters)\n",
    "}"
   ]
  },
  {
   "cell_type": "code",
   "execution_count": 8,
   "metadata": {
    "vscode": {
     "languageId": "r"
    }
   },
   "outputs": [
    {
     "name": "stdout",
     "output_type": "stream",
     "text": [
      "Overwriting create_dataset.R\n"
     ]
    }
   ],
   "source": [
    "%%writefile create_dataset.R\n",
    "library(imager)\n",
    "load <- function(im){\n",
    "  skip_to_next<-FALSE\n",
    "  tryCatch(load.image(im), error = function(e){skip_to_next<<-TRUE},\n",
    "           if(skip_to_next){next})\n",
    "}\n",
    "clean_set<-function(loaded_images){\n",
    "  for(i in 1:length(loaded_images)){\n",
    "    error_check<-FALSE\n",
    "    tryCatch(if(dim(loaded_images[[i]])[4]!=3){\n",
    "      loaded_images <- loaded_images[-i]\n",
    "    }, error=function(e){error_check<<-TRUE},\n",
    "    if(error_check){loaded_images=loaded_images[-i]})\n",
    "    tryCatch(if(dim(loaded_images[[i]])[4]==3){ \n",
    "      next},error=function(e){error_check<<-TRUE},\n",
    "      if(error_check){loaded_images=loaded_images[-i]})\n",
    "    tryCatch(if(loaded_images[[i]]==1){\n",
    "      loaded_images <- loaded_images[-1]\n",
    "    }, error=function(e){error_check<<-TRUE},\n",
    "    if(error_check){next})\n",
    "  }\n",
    "  return(loaded_images)\n",
    "}\n",
    "resize_set<-function(loaded_images,width,height){\n",
    "  for(i in 1:length(loaded_images)){\n",
    "    loaded_images[[i]]<-resize(loaded_images[[i]],width,height,interpolation_type=1)\n",
    "  }\n",
    "  loaded_images<-do.call(\"cbind\",loaded_images)\n",
    "  return(loaded_images)\n",
    "}\n",
    "create_dataset<-function(filenames_cat,filenames_dog, labels=c(1,0),width,height){\n",
    "  loaded_cats<-sapply(filenames_cat,FUN=load,USE.NAMES=TRUE)\n",
    "  names(loaded_cats)<-gsub(\"C:/Users/wtrindad/source/repos/NN_from_scratch/PetLite/\",\"\",names(loaded_cats))\n",
    "  plot(loaded_cats$`Cat/1.jpg`)\n",
    "  loaded_cats<-clean_set(loaded_cats)\n",
    "  loaded_cats<-resize_set(loaded_cats,width,height)\n",
    "  cat_labels<-rep(labels[1],dim(loaded_cats)[2])\n",
    "  plot(as.cimg(loaded_cats[,2],x=32,y=32,z=1,cc=3))\n",
    "  loaded_dogs<-sapply(filenames_dog,FUN=load,USE.NAMES=TRUE)\n",
    "  names(loaded_dogs)<-gsub(\"C:/Users/wtrindad/source/repos/NN_from_scratch/PetLite/\",\"\",names(loaded_dogs))\n",
    "  plot(loaded_dogs$`Dog/1.jpg`)\n",
    "  loaded_dogs<-clean_set(loaded_dogs)\n",
    "  loaded_dogs<-resize_set(loaded_dogs,width=32,height=32)\n",
    "  dog_labels<-rep(labels[2],dim(loaded_dogs)[2])\n",
    "  plot(as.cimg(loaded_dogs[,2],x=32,y=32,z=1,cc=3))\n",
    "  dataset<-cbind(loaded_cats,loaded_dogs)\n",
    "  labels<-append(cat_labels,dog_labels)\n",
    "  return(list(dataset,labels))\n",
    "}"
   ]
  },
  {
   "cell_type": "code",
   "execution_count": 9,
   "metadata": {
    "vscode": {
     "languageId": "r"
    }
   },
   "outputs": [
    {
     "name": "stdout",
     "output_type": "stream",
     "text": [
      "Overwriting dense_nn.R\n"
     ]
    }
   ],
   "source": [
    "%%writefile dense_nn.R\n",
    "source(\"update.R\")\n",
    "source(\"back_prop.R\")\n",
    "source(\"deep_model.R\")\n",
    "source(\"init_param.R\")\n",
    "source(\"cost_computation.R\")\n",
    "dense_nn<-function(X,Y,layers_dims,learning_rate=0.0075,num_iterations=5000,print_cost=FALSE){\n",
    "  costs<-list()\n",
    "  parameters<-init_param(layers_dims)\n",
    "  for(i in 1:num_iterations){\n",
    "    calc<-deep_model(X,parameters)\n",
    "    AV<-calc[[1]]\n",
    "    caches<-calc[[2]]\n",
    "    cost<-cost_computation(AV,Y)\n",
    "    grads<-deep_model_back(AV,Y,caches)\n",
    "    parameters<-update(parameters,grads,learning_rate)\n",
    "    if(print_cost && i%%100==0 | i==num_iterations-1){\n",
    "      print(\"Cost after iteration \",i,\": \",cost)\n",
    "    }\n",
    "    if(i%%100==0 | i==num_iterations){\n",
    "      costs<-append(costs,cost)\n",
    "    }\n",
    "  }\n",
    "  return(list(parameters,costs))\n",
    "}"
   ]
  },
  {
   "cell_type": "code",
   "execution_count": 10,
   "metadata": {
    "vscode": {
     "languageId": "r"
    }
   },
   "outputs": [
    {
     "name": "stdout",
     "output_type": "stream",
     "text": [
      "Overwriting predict.R\n"
     ]
    }
   ],
   "source": [
    "%%writefile predict.R\n",
    "source(\"deep_model.R\")\n",
    "predict<-function(X,y,parameters){\n",
    "    m<-dim(X)[2]\n",
    "    n<-length(parameters)%/%2\n",
    "    p<-matrix(0,1,m)\n",
    "    dm<-deep_model(X,parameters)\n",
    "    probs<-dm[[1]]\n",
    "    caches<-dm[[2]]\n",
    "    for (i in 1:dim(probs)[2]){\n",
    "        if(probs[1,i]>0.5){\n",
    "            p[1,i]=1\n",
    "        } else {\n",
    "            p[1,i]=0\n",
    "        }\n",
    "    }\n",
    "    print(\"Accuracy \", sum((p==y)/m))\n",
    "    return(p)\n",
    "}"
   ]
  },
  {
   "cell_type": "code",
   "execution_count": 1,
   "metadata": {
    "vscode": {
     "languageId": "r"
    }
   },
   "outputs": [
    {
     "ename": "ERROR",
     "evalue": "Error: '\\U' used without hex digits in character string starting \"\"C:\\U\"\n",
     "output_type": "error",
     "traceback": [
      "Error: '\\U' used without hex digits in character string starting \"\"C:\\U\"\nTraceback:\n"
     ]
    }
   ],
   "source": [
    "source(\"create_dataset.R\")\n",
    "filenames_cat <- list.files(\"C:/Users/wtrindad/source/repos/NN_from_scratch/PetLite/Cat/\", pattern=\"*.jpg\", full.names=T)\n",
    "filenames_dog <- list.files(\"C:/Users/wtrindad/source/repos/NN_from_scratch/PetLite/Dog/\", pattern=\"*.jpg\", full.names=T)\n",
    "img_data<-create_dataset(filenames_cat,filenames_dog,labels=c(1,0),width=32,height=32) # Do notice this cell will take a good \n",
    "                                                                                       # 15min or more to run, more if your computer \n",
    "                                                                                       # is below average. As it progresses it will \n",
    "                                                                                       # plot different images, you can use these as \n",
    "                                                                                       # reference of what stage of the calculation\n",
    "                                                                                       # the function is at. Also to see cute animals\n",
    "                                                                                        "
   ]
  },
  {
   "cell_type": "code",
   "execution_count": 2,
   "metadata": {
    "vscode": {
     "languageId": "r"
    }
   },
   "outputs": [],
   "source": [
    "dataset<-img_data[[1]]\n",
    "labels<-img_data[[2]]\n",
    "\n",
    "samples<-sample(c(TRUE,FALSE),ncol(dataset),replace=TRUE,prob=c(0.85,0.15))\n",
    "\n",
    "x_train<-dataset[,samples]\n",
    "y_train<-labels[samples]\n",
    "x_test<-dataset[,!samples]\n",
    "y_test<-labels[!samples]"
   ]
  },
  {
   "cell_type": "code",
   "execution_count": 3,
   "metadata": {
    "vscode": {
     "languageId": "r"
    }
   },
   "outputs": [
    {
     "data": {
      "text/html": [
       "<style>\n",
       ".list-inline {list-style: none; margin:0; padding: 0}\n",
       ".list-inline>li {display: inline-block}\n",
       ".list-inline>li:not(:last-child)::after {content: \"\\00b7\"; padding: 0 .5ex}\n",
       "</style>\n",
       "<ol class=list-inline><li>3072</li><li>36</li></ol>\n"
      ],
      "text/latex": [
       "\\begin{enumerate*}\n",
       "\\item 3072\n",
       "\\item 36\n",
       "\\end{enumerate*}\n"
      ],
      "text/markdown": [
       "1. 3072\n",
       "2. 36\n",
       "\n",
       "\n"
      ],
      "text/plain": [
       "[1] 3072   36"
      ]
     },
     "metadata": {},
     "output_type": "display_data"
    },
    {
     "data": {
      "text/html": [
       "36"
      ],
      "text/latex": [
       "36"
      ],
      "text/markdown": [
       "36"
      ],
      "text/plain": [
       "[1] 36"
      ]
     },
     "metadata": {},
     "output_type": "display_data"
    },
    {
     "data": {
      "text/html": [
       "<style>\n",
       ".list-inline {list-style: none; margin:0; padding: 0}\n",
       ".list-inline>li {display: inline-block}\n",
       ".list-inline>li:not(:last-child)::after {content: \"\\00b7\"; padding: 0 .5ex}\n",
       "</style>\n",
       "<ol class=list-inline><li>3072</li><li>6</li></ol>\n"
      ],
      "text/latex": [
       "\\begin{enumerate*}\n",
       "\\item 3072\n",
       "\\item 6\n",
       "\\end{enumerate*}\n"
      ],
      "text/markdown": [
       "1. 3072\n",
       "2. 6\n",
       "\n",
       "\n"
      ],
      "text/plain": [
       "[1] 3072    6"
      ]
     },
     "metadata": {},
     "output_type": "display_data"
    },
    {
     "data": {
      "text/html": [
       "6"
      ],
      "text/latex": [
       "6"
      ],
      "text/markdown": [
       "6"
      ],
      "text/plain": [
       "[1] 6"
      ]
     },
     "metadata": {},
     "output_type": "display_data"
    }
   ],
   "source": [
    "dim(x_train)\n",
    "length(y_train)\n",
    "dim(x_test)\n",
    "length(y_test)"
   ]
  },
  {
   "cell_type": "code",
   "execution_count": 4,
   "metadata": {
    "vscode": {
     "languageId": "r"
    }
   },
   "outputs": [],
   "source": [
    "layer_dims<-c(dim(x_train)[1],20,7,5,1)"
   ]
  },
  {
   "cell_type": "code",
   "execution_count": 5,
   "metadata": {
    "vscode": {
     "languageId": "r"
    }
   },
   "outputs": [
    {
     "ename": "ERROR",
     "evalue": "Error in W %*% A: non-conformable arguments\n",
     "output_type": "error",
     "traceback": [
      "Error in W %*% A: non-conformable arguments\nTraceback:\n",
      "1. dense_nn(x_train, y_train, layer_dims, num_iterations = 1, print_cost = True)",
      "2. deep_model(X, parameters)",
      "3. for_activation(A_prev, parameters[[paste0(\"W\", l)]], parameters[[paste0(\"b\", \n .     l)]], activ = \"relu\")",
      "4. for_prop(A_prev, W, b)",
      "5. sweep((W %*% A), MARGIN = 1, STATS = b, FUN = \"+\")"
     ]
    }
   ],
   "source": [
    "source(\"dense_nn.R\")\n",
    "short_run<-dense_nn(x_train,y_train,layer_dims,num_iterations=1,print_cost=TRUE)\n",
    "parameters<-short_run[[1]]\n",
    "costs<-short_run[[2]]"
   ]
  },
  {
   "cell_type": "code",
   "execution_count": null,
   "metadata": {
    "vscode": {
     "languageId": "r"
    }
   },
   "outputs": [],
   "source": [
    "long_run<-dense_nn(x_train,y_train,layer_dims,num_iterations=500,print_cost=TRUE)\n",
    "parameters<-long_run[[1]]\n",
    "costs<-long_run[[2]]"
   ]
  },
  {
   "cell_type": "code",
   "execution_count": null,
   "metadata": {
    "vscode": {
     "languageId": "r"
    }
   },
   "outputs": [],
   "source": [
    "source(\"predict.R\")\n",
    "predict_train=predict(x_train,y_train,parameters)"
   ]
  },
  {
   "cell_type": "code",
   "execution_count": null,
   "metadata": {
    "vscode": {
     "languageId": "r"
    }
   },
   "outputs": [],
   "source": [
    "predict_test=predict(x_test,y_test,parameters)"
   ]
  }
 ],
 "metadata": {
  "kernelspec": {
   "display_name": "R",
   "language": "R",
   "name": "ir"
  },
  "language_info": {
   "codemirror_mode": "r",
   "file_extension": ".r",
   "mimetype": "text/x-r-source",
   "name": "R",
   "pygments_lexer": "r",
   "version": "4.2.1"
  },
  "vscode": {
   "interpreter": {
    "hash": "31565927ecfa8a97530e2f965425b5ecaba213cd38f3e141bd6680a742dfc05e"
   }
  }
 },
 "nbformat": 4,
 "nbformat_minor": 2
}
